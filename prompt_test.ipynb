{
 "cells": [
  {
   "cell_type": "code",
   "execution_count": 1,
   "metadata": {},
   "outputs": [],
   "source": [
    "from dotenv import load_dotenv\n",
    "import os\n",
    "from openai import OpenAI\n",
    "\n",
    "load_dotenv()\n",
    "\n",
    "BASE_URL = \"https://api.groq.com/openai/v1\"\n",
    "API_KEY = os.getenv(\"GROQ_API_KEY\")\n",
    "\n",
    "client = OpenAI(\n",
    "  api_key = API_KEY,\n",
    "  base_url = BASE_URL\n",
    ")"
   ]
  },
  {
   "cell_type": "code",
   "execution_count": 8,
   "metadata": {},
   "outputs": [],
   "source": [
    "from langchain_community.document_loaders import PyPDFLoader\n",
    "\n",
    "loader = PyPDFLoader(\"Data Scientist Job Description.pdf\")\n",
    "pages = loader.load()"
   ]
  },
  {
   "cell_type": "code",
   "execution_count": 9,
   "metadata": {},
   "outputs": [],
   "source": [
    "for page in pages:\n",
    "    data=\"\"\n",
    "    data=data + page.page_content\n"
   ]
  },
  {
   "cell_type": "code",
   "execution_count": 13,
   "metadata": {},
   "outputs": [],
   "source": [
    "system_content = '''\n",
    "You are tasked with answering the following questions based on the provided job description. \n",
    "If a specific answer is not found, simply write “none” without any assumptions. \n",
    "Output the answers only in YAML format.\n",
    "\n",
    "Job Description:\n",
    "{data}\n",
    "\n",
    "'''\n",
    "system_content=system_content.format(data=data)"
   ]
  },
  {
   "cell_type": "code",
   "execution_count": 18,
   "metadata": {},
   "outputs": [],
   "source": [
    "\n",
    "user_prompt='''\n",
    "Answer the following questions:\n",
    "```yaml\n",
    "questions: \n",
    "    salary: \n",
    "      q1: What is your expected salary range?\n",
    "      a1:\n",
    "      q2: Are you open to salary negotiations based on experience and performance?\n",
    "      a2:\n",
    "    \n",
    "    experience: \n",
    "      q1: How many years of experience do you have in this field?\n",
    "      a1:\n",
    "      q2: Have you held any leadership roles in your previous jobs?\n",
    "      a2:\n",
    "    \n",
    "    perks: \n",
    "      q1: What are the most important perks and benefits you're looking for?\n",
    "      a1\n",
    "      q2: Do you prioritize remote work or flexible hours?\n",
    "      a2\n",
    "    \n",
    "    education: \n",
    "      q1: What is your highest level of educational qualification?\n",
    "      a1\n",
    "      q2: Do you have any additional certifications relevant to this role?\n",
    "      a2\n",
    "    \n",
    "    about_company: \n",
    "      q1: What do you know about our company and its mission?\n",
    "      a1\n",
    "      q2: Why do you want to work for our company?\n",
    "      a2\n",
    "```\n",
    "The output should strictly follow this format with “none” where an answer is not available.\n",
    "'''"
   ]
  },
  {
   "cell_type": "code",
   "execution_count": 19,
   "metadata": {},
   "outputs": [
    {
     "name": "stdout",
     "output_type": "stream",
     "text": [
      "Here are the answers in YAML format:\n",
      "\n",
      "```\n",
      "salary:\n",
      "  q1: What is your expected salary range?\n",
      "  a1: none\n",
      "  q2: Are you open to salary negotiations based on experience and performance?\n",
      "  a2: none\n",
      "\n",
      "experience:\n",
      "  q1: How many years of experience do you have in this field?\n",
      "  a1: 3+\n",
      "  q2: Have you held any leadership roles in your previous jobs?\n",
      "  a2: none\n",
      "\n",
      "perks:\n",
      "  q1: What are the most important perks and benefits you're looking for?\n",
      "  a1: Competitive salary and benefits, flexible working arrangements, collaborative culture\n",
      "  q2: Do you prioritize remote work or flexible hours?\n",
      "  a2: Flexible working arrangements, including remote options\n",
      "\n",
      "education:\n",
      "  q1: What is your highest level of educational qualification?\n",
      "  a1: Bachelor's or Master's in Data Science, Statistics, Computer Science, Mathematics, or a related field\n",
      "  q2: Do you have any additional certifications relevant to this role?\n",
      "  a2: none\n",
      "\n",
      "about_company:\n",
      "  q1: What do you know about our company and its mission?\n",
      "  a1: none\n",
      "  q2: Why do you want to work for our company?\n",
      "  a2: none\n",
      "```\n"
     ]
    }
   ],
   "source": [
    "\n",
    "response = client.chat.completions.create(\n",
    "  model=\"llama3-70b-8192\",\n",
    "  messages=[\n",
    "    {\"role\": \"system\", \"content\": system_content},\n",
    "    {\"role\": \"user\", \"content\": user_prompt}\n",
    "  ]\n",
    ")\n",
    "\n",
    "print(response.choices[0].message.content)"
   ]
  }
 ],
 "metadata": {
  "kernelspec": {
   "display_name": "env",
   "language": "python",
   "name": "python3"
  },
  "language_info": {
   "codemirror_mode": {
    "name": "ipython",
    "version": 3
   },
   "file_extension": ".py",
   "mimetype": "text/x-python",
   "name": "python",
   "nbconvert_exporter": "python",
   "pygments_lexer": "ipython3",
   "version": "3.11.5"
  }
 },
 "nbformat": 4,
 "nbformat_minor": 2
}
