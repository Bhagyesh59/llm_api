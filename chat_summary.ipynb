{
 "cells": [
  {
   "cell_type": "code",
   "execution_count": 1,
   "metadata": {},
   "outputs": [],
   "source": [
    "from dotenv import load_dotenv\n",
    "import os\n",
    "from openai import OpenAI\n",
    "\n",
    "load_dotenv()\n",
    "\n",
    "BASE_URL = \"https://api.groq.com/openai/v1\"\n",
    "API_KEY = \"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\"\n",
    "\n",
    "client = OpenAI(\n",
    "  api_key = API_KEY,\n",
    "  base_url = BASE_URL\n",
    ")"
   ]
  },
  {
   "cell_type": "code",
   "execution_count": 2,
   "metadata": {},
   "outputs": [],
   "source": [
    "system_content = '''\n",
    "[INTRODUCTION]: You are an expert recruiter at summarising any chat conversation of any format between a RECRUITER and a CANDIDATE into key pointers using a specific YAML format. \n",
    "'''"
   ]
  },
  {
   "cell_type": "code",
   "execution_count": 9,
   "metadata": {},
   "outputs": [],
   "source": [
    "chat_conversation='''\n",
    "Sarah Johnson (Recruiter): Hi Mark, thank you for taking the time to speak with me today about the Senior Software Engineer position at Tech Innovators. How are you?\n",
    "\n",
    "Mark Thompson (Candidate): Honestly, Sarah, I don't have time for small talk. Let's get straight to why you're lucky to have me for this role.\n",
    "\n",
    "Sarah Johnson: I appreciate your confidence. To start, could you tell me a bit about your experience with our tech stack?\n",
    "\n",
    "Mark Thompson: My experience is unparalleled. I've mastered every technology you've listed and more. Honestly, I’m the best person you've ever considered for this position.\n",
    "\n",
    "Sarah Johnson: That's impressive. We're looking for someone with strong leadership skills. Can you share an example of how you've led a team in the past?\n",
    "\n",
    "Mark Thompson: Leading teams comes naturally to me. In my last role, I didn't just lead the team; I transformed it into a powerhouse. If you hire me, your team will never be the same, and in the best possible way, of course.\n",
    "\n",
    "Sarah Johnson: Great to hear. The position does require relocation to our headquarters in New York. Are you open to relocating?\n",
    "\n",
    "Mark Thompson: Relocation? That's not really necessary. I work best in my own environment, and I'm sure your office can't handle someone of my caliber relocating there.\n",
    "\n",
    "Sarah Johnson: Understood. We do have remote options, though relocation might be part of the initial onboarding. We'll consider your preference.\n",
    "\n",
    "Mark Thompson: Well, you should consider how fortunate you are to have someone like me available who doesn’t need to uproot their life for a job.\n",
    "\n",
    "Sarah Johnson: Moving forward, could you describe a challenging project and how you handled it?\n",
    "\n",
    "Mark Thompson: Any project I touch turns out to be a success because I’m involved. Challenges? They don't stand a chance against my skills. Honestly, I've never been stumped by a problem.\n",
    "\n",
    "Sarah Johnson: I appreciate your enthusiasm. Lastly, are there any questions you have for me about the role or the company?\n",
    "\n",
    "Mark Thompson: Questions? I don't have time for that. Just make sure you make me an offer, and we can conclude this process quickly.\n",
    "\n",
    "Sarah Johnson: Thank you for your time, Mark. We'll review your application and get back to you soon.\n",
    "\n",
    "\n",
    "'''"
   ]
  },
  {
   "cell_type": "code",
   "execution_count": 12,
   "metadata": {},
   "outputs": [],
   "source": [
    "\n",
    "user_prompt=f'''\n",
    "[TASK]:You  have to process  given conversation and return a concise summary highlighting key information. The summary follows the YAML schema that follows pydantic class 'ConversationSummary'. Here is the Chat conversation :\n",
    "{chat_conversation}\n",
    "[IMPORTANT]: You always return these summaries in a structured format and provide clear, focused information. Here is the pydantic 'ConversationSummary' model schema  :\n",
    "class ConversationSummary(BaseModel):\n",
    "    topics: List[str] # List of useful topics (good and bad) from the hiring perspective discussed in the conversation\n",
    "    key_points: List[str] # Key pointers that can be important from the hiring perspective\n",
    "    red_flags List[str] =[] # Only if you find negative topics about the candidate's personality if not leave it empty.\n",
    "output should be only yaml and no other text\n",
    "'''"
   ]
  },
  {
   "cell_type": "code",
   "execution_count": 7,
   "metadata": {},
   "outputs": [
    {
     "data": {
      "text/plain": [
       "\"\\n[TASK]:You  have to process  given conversation and return a concise summary highlighting key information. The summary follows the YAML schema that follows pydantic class 'ConversationSummary'. Here is the Chat conversation :\\n\\nHere’s a sample conversation between a recruiter and a candidate:\\n\\n**Recruiter:**  \\nHi, thanks for taking the time to chat today. Can you start by telling me a bit about your background?\\n\\n**Candidate:**  \\nSure! I have a Bachelor's degree in Computer Science and around 5 years of experience as a software engineer. I’ve worked mostly in backend development using Python and Java, and I’ve been involved in some cloud-based projects using AWS.\\n\\n**Recruiter:**  \\nThat’s great! Are you looking to continue working in backend development, or are you open to other areas as well?\\n\\n**Candidate:**  \\nI’m definitely open to exploring other areas, but I really enjoy backend development. I’ve recently started learning more about DevOps and cloud infrastructure, so I wouldn’t mind working on something that involves both.\\n\\n**Recruiter:**  \\nThat’s interesting! We actually have a few roles that might fit your background, including one that focuses on backend work but also involves setting up cloud infrastructure. Would you be open to discussing that?\\n\\n**Candidate:**  \\nYes, absolutely! I’d love to hear more about that position.\\n\\n**Recruiter:**  \\nIt’s with a mid-sized company that’s focused on e-commerce. They’re looking for someone to help build and maintain scalable backend systems while also managing their cloud setup on AWS. Does that sound like something you’d be interested in?\\n\\n**Candidate:**  \\nThat sounds really good. I’ve worked with AWS in my previous role, so I’m familiar with setting up cloud environments and managing services like EC2, RDS, and S3.\\n\\n**Recruiter:**  \\nPerfect! I’ll go ahead and share your resume with the hiring manager. Do you have any specific salary expectations at this point?\\n\\n**Candidate:**  \\nI’m looking for something in the range of $120,000 to $130,000, depending on the overall benefits and responsibilities.\\n\\n**Recruiter:**  \\nThat’s helpful to know. I’ll make a note of that. Do you have any other questions for me about the role or the company?\\n\\n**Candidate:**  \\nNot right now, but I’d be interested in learning more about the company culture and what the typical career progression looks like.\\n\\n**Recruiter:**  \\nI can definitely provide more details on that during the next steps. Thank you so much for your time today! I’ll be in touch soon.\\n\\n**Candidate:**  \\nThank you! Looking forward to it.\\n\\n[IMPORTANT]: You always return these summaries in a structured format and provide clear, focused information. Here is the pydantic 'ConversationSummary' model schema  :\\nclass ConversationSummary(BaseModel):\\n    topics: List[str] # List of useful topics (good and bad) from the hiring perspective discussed in the conversation\\n    key_points: List[str] # Key pointers that can be important from the hiring perspective\\n    red_flags List[str] =[] # Only if you find negative topics about the candidate's personality if not leave it empty.\\n\""
      ]
     },
     "execution_count": 7,
     "metadata": {},
     "output_type": "execute_result"
    }
   ],
   "source": [
    "user_prompt\n"
   ]
  },
  {
   "cell_type": "code",
   "execution_count": 21,
   "metadata": {},
   "outputs": [
    {
     "name": "stdout",
     "output_type": "stream",
     "text": [
      "topics:\n",
      "  - Technical experience and skills\n",
      "  - Leadership skills and team management\n",
      "  - Relocation and work environment preferences\n",
      "  - Problem-solving and project management\n",
      "  - Candidate's attitude and communication style\n",
      "\n",
      "key_points:\n",
      "  - The candidate has extensive experience with the company's tech stack.\n",
      "  - He has strong leadership skills and has successfully led teams in the past.\n",
      "  - He is confident in his abilities and has a high level of self-assurance.\n",
      "  - He prefers to work remotely and is hesitant to relocate.\n",
      "  - He has a strong track record of delivering successful projects.\n",
      "\n",
      "red_flags:\n",
      "  - The candidate comes across as arrogant and dismissive.\n",
      "  - He lacks humility and is overly confident to the point of being off-putting.\n",
      "  - He is unwilling to engage in small talk and seems to be in a hurry.\n",
      "  - He is unwilling to ask questions about the role or the company.\n",
      "  - He seems to be more interested in making demands than in having a collaborative conversation.\n"
     ]
    }
   ],
   "source": [
    "response = client.chat.completions.create(\n",
    "  model=\"llama-3.1-70b-versatile\",\n",
    "  messages=[\n",
    "    {\"role\": \"system\", \"content\": system_content},\n",
    "    {\"role\": \"user\", \"content\": user_prompt}\n",
    "  ],\n",
    "  temperature=0.5,\n",
    ")\n",
    "\n",
    "print(response.choices[0].message.content)"
   ]
  }
 ],
 "metadata": {
  "kernelspec": {
   "display_name": "env",
   "language": "python",
   "name": "python3"
  },
  "language_info": {
   "codemirror_mode": {
    "name": "ipython",
    "version": 3
   },
   "file_extension": ".py",
   "mimetype": "text/x-python",
   "name": "python",
   "nbconvert_exporter": "python",
   "pygments_lexer": "ipython3",
   "version": "3.11.5"
  }
 },
 "nbformat": 4,
 "nbformat_minor": 2
}
